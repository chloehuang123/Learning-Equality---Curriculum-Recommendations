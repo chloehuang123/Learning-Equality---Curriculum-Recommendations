{
 "cells": [
  {
   "cell_type": "code",
   "execution_count": 1,
   "id": "e4e5bbaa",
   "metadata": {
    "execution": {
     "iopub.execute_input": "2022-12-16T13:22:40.102324Z",
     "iopub.status.busy": "2022-12-16T13:22:40.101661Z",
     "iopub.status.idle": "2022-12-16T13:22:41.670741Z",
     "shell.execute_reply": "2022-12-16T13:22:41.669120Z"
    },
    "papermill": {
     "duration": 1.58498,
     "end_time": "2022-12-16T13:22:41.674272",
     "exception": false,
     "start_time": "2022-12-16T13:22:40.089292",
     "status": "completed"
    },
    "tags": []
   },
   "outputs": [],
   "source": [
    "import os\n",
    "import json\n",
    "import matplotlib\n",
    "import numpy as np\n",
    "import pandas as pd\n",
    "from tqdm.notebook import tqdm\n",
    "from sklearn.model_selection import StratifiedGroupKFold, GroupKFold"
   ]
  },
  {
   "cell_type": "code",
   "execution_count": 2,
   "id": "5ac9a9a3",
   "metadata": {
    "execution": {
     "iopub.execute_input": "2022-12-16T13:22:41.700052Z",
     "iopub.status.busy": "2022-12-16T13:22:41.699543Z",
     "iopub.status.idle": "2022-12-16T13:22:41.705438Z",
     "shell.execute_reply": "2022-12-16T13:22:41.703955Z"
    },
    "papermill": {
     "duration": 0.023327,
     "end_time": "2022-12-16T13:22:41.708354",
     "exception": false,
     "start_time": "2022-12-16T13:22:41.685027",
     "status": "completed"
    },
    "tags": []
   },
   "outputs": [],
   "source": [
    "DATA_PATH = \"../raw_data/\" # raw_data path"
   ]
  },
  {
   "cell_type": "code",
   "execution_count": 10,
   "id": "c38c14b5",
   "metadata": {
    "execution": {
     "iopub.execute_input": "2022-12-16T13:22:41.731837Z",
     "iopub.status.busy": "2022-12-16T13:22:41.731417Z",
     "iopub.status.idle": "2022-12-16T13:23:05.855527Z",
     "shell.execute_reply": "2022-12-16T13:23:05.854203Z"
    },
    "papermill": {
     "duration": 24.139111,
     "end_time": "2022-12-16T13:23:05.858134",
     "exception": false,
     "start_time": "2022-12-16T13:22:41.719023",
     "status": "completed"
    },
    "tags": []
   },
   "outputs": [
    {
     "data": {
      "text/html": [
       "<div>\n",
       "<style scoped>\n",
       "    .dataframe tbody tr th:only-of-type {\n",
       "        vertical-align: middle;\n",
       "    }\n",
       "\n",
       "    .dataframe tbody tr th {\n",
       "        vertical-align: top;\n",
       "    }\n",
       "\n",
       "    .dataframe thead th {\n",
       "        text-align: right;\n",
       "    }\n",
       "</style>\n",
       "<table border=\"1\" class=\"dataframe\">\n",
       "  <thead>\n",
       "    <tr style=\"text-align: right;\">\n",
       "      <th></th>\n",
       "      <th>id</th>\n",
       "      <th>title</th>\n",
       "      <th>description</th>\n",
       "      <th>channel</th>\n",
       "      <th>category</th>\n",
       "      <th>level</th>\n",
       "      <th>language</th>\n",
       "      <th>parent</th>\n",
       "      <th>has_content</th>\n",
       "    </tr>\n",
       "  </thead>\n",
       "  <tbody>\n",
       "    <tr>\n",
       "      <th>0</th>\n",
       "      <td>t_00004da3a1b2</td>\n",
       "      <td>Откриването на резисторите</td>\n",
       "      <td>Изследване на материали, които предизвикват на...</td>\n",
       "      <td>000cf7</td>\n",
       "      <td>source</td>\n",
       "      <td>4</td>\n",
       "      <td>bg</td>\n",
       "      <td>t_16e29365b50d</td>\n",
       "      <td>True</td>\n",
       "    </tr>\n",
       "    <tr>\n",
       "      <th>2</th>\n",
       "      <td>t_00068291e9a4</td>\n",
       "      <td>Entradas e saídas de uma função</td>\n",
       "      <td>Entenda um pouco mais sobre funções.</td>\n",
       "      <td>8e286a</td>\n",
       "      <td>source</td>\n",
       "      <td>4</td>\n",
       "      <td>pt</td>\n",
       "      <td>t_d14b6c2a2b70</td>\n",
       "      <td>True</td>\n",
       "    </tr>\n",
       "    <tr>\n",
       "      <th>3</th>\n",
       "      <td>t_00069b63a70a</td>\n",
       "      <td>Transcripts</td>\n",
       "      <td>NaN</td>\n",
       "      <td>6e3ba4</td>\n",
       "      <td>source</td>\n",
       "      <td>3</td>\n",
       "      <td>en</td>\n",
       "      <td>t_4054df11a74e</td>\n",
       "      <td>True</td>\n",
       "    </tr>\n",
       "    <tr>\n",
       "      <th>4</th>\n",
       "      <td>t_0006d41a73a8</td>\n",
       "      <td>Графики на експоненциални функции (Алгебра 2 н...</td>\n",
       "      <td>Научи повече за графиките на сложните показате...</td>\n",
       "      <td>000cf7</td>\n",
       "      <td>source</td>\n",
       "      <td>4</td>\n",
       "      <td>bg</td>\n",
       "      <td>t_e2452e21d252</td>\n",
       "      <td>True</td>\n",
       "    </tr>\n",
       "    <tr>\n",
       "      <th>5</th>\n",
       "      <td>t_0008768bdee6</td>\n",
       "      <td>100 સુધીનો સરવાળો</td>\n",
       "      <td>37 અને 49 જેવી બે-અંકની સંખ્યાઓ ઉમેરતા શીખો.</td>\n",
       "      <td>5223e0</td>\n",
       "      <td>supplemental</td>\n",
       "      <td>4</td>\n",
       "      <td>gu</td>\n",
       "      <td>t_0da7a331d666</td>\n",
       "      <td>True</td>\n",
       "    </tr>\n",
       "  </tbody>\n",
       "</table>\n",
       "</div>"
      ],
      "text/plain": [
       "               id                                              title  \\\n",
       "0  t_00004da3a1b2                         Откриването на резисторите   \n",
       "2  t_00068291e9a4                    Entradas e saídas de uma função   \n",
       "3  t_00069b63a70a                                        Transcripts   \n",
       "4  t_0006d41a73a8  Графики на експоненциални функции (Алгебра 2 н...   \n",
       "5  t_0008768bdee6                                  100 સુધીનો સરવાળો   \n",
       "\n",
       "                                         description channel      category  \\\n",
       "0  Изследване на материали, които предизвикват на...  000cf7        source   \n",
       "2               Entenda um pouco mais sobre funções.  8e286a        source   \n",
       "3                                                NaN  6e3ba4        source   \n",
       "4  Научи повече за графиките на сложните показате...  000cf7        source   \n",
       "5       37 અને 49 જેવી બે-અંકની સંખ્યાઓ ઉમેરતા શીખો.  5223e0  supplemental   \n",
       "\n",
       "   level language          parent  has_content  \n",
       "0      4       bg  t_16e29365b50d         True  \n",
       "2      4       pt  t_d14b6c2a2b70         True  \n",
       "3      3       en  t_4054df11a74e         True  \n",
       "4      4       bg  t_e2452e21d252         True  \n",
       "5      4       gu  t_0da7a331d666         True  "
      ]
     },
     "execution_count": 10,
     "metadata": {},
     "output_type": "execute_result"
    }
   ],
   "source": [
    "topics = pd.read_csv(DATA_PATH + \"topics.csv\")\n",
    "content = pd.read_csv(DATA_PATH + \"content.csv\")\n",
    "correlations = pd.read_csv(DATA_PATH + \"correlations.csv\")\n",
    "\n",
    "topics = topics[topics.has_content==True] # Keep only the topics with content\n",
    "\n",
    "topics.head()"
   ]
  },
  {
   "cell_type": "markdown",
   "id": "cb493013",
   "metadata": {},
   "source": [
    "## Split"
   ]
  },
  {
   "cell_type": "code",
   "execution_count": 11,
   "id": "e9c26411",
   "metadata": {},
   "outputs": [
    {
     "data": {
      "text/html": [
       "<div>\n",
       "<style scoped>\n",
       "    .dataframe tbody tr th:only-of-type {\n",
       "        vertical-align: middle;\n",
       "    }\n",
       "\n",
       "    .dataframe tbody tr th {\n",
       "        vertical-align: top;\n",
       "    }\n",
       "\n",
       "    .dataframe thead th {\n",
       "        text-align: right;\n",
       "    }\n",
       "</style>\n",
       "<table border=\"1\" class=\"dataframe\">\n",
       "  <thead>\n",
       "    <tr style=\"text-align: right;\">\n",
       "      <th></th>\n",
       "      <th>id</th>\n",
       "      <th>fold</th>\n",
       "    </tr>\n",
       "  </thead>\n",
       "  <tbody>\n",
       "    <tr>\n",
       "      <th>0</th>\n",
       "      <td>t_00004da3a1b2</td>\n",
       "      <td>train</td>\n",
       "    </tr>\n",
       "    <tr>\n",
       "      <th>2</th>\n",
       "      <td>t_00068291e9a4</td>\n",
       "      <td>train</td>\n",
       "    </tr>\n",
       "    <tr>\n",
       "      <th>3</th>\n",
       "      <td>t_00069b63a70a</td>\n",
       "      <td>train</td>\n",
       "    </tr>\n",
       "    <tr>\n",
       "      <th>4</th>\n",
       "      <td>t_0006d41a73a8</td>\n",
       "      <td>train</td>\n",
       "    </tr>\n",
       "    <tr>\n",
       "      <th>9</th>\n",
       "      <td>t_000feba42136</td>\n",
       "      <td>train</td>\n",
       "    </tr>\n",
       "  </tbody>\n",
       "</table>\n",
       "</div>"
      ],
      "text/plain": [
       "               id   fold\n",
       "0  t_00004da3a1b2  train\n",
       "2  t_00068291e9a4  train\n",
       "3  t_00069b63a70a  train\n",
       "4  t_0006d41a73a8  train\n",
       "9  t_000feba42136  train"
      ]
     },
     "execution_count": 11,
     "metadata": {},
     "output_type": "execute_result"
    }
   ],
   "source": [
    "# All topics with category=='source' are assigned to the train fold because there are no topics with category=='source' in the hidden test set.\n",
    "topics_train = topics[topics['category'] == \"source\"][[\"id\"]] \n",
    "topics_train[\"fold\"] = \"train\"\n",
    "\n",
    "topics_train.head()"
   ]
  },
  {
   "cell_type": "code",
   "execution_count": 13,
   "id": "26e43ad6",
   "metadata": {
    "execution": {
     "iopub.execute_input": "2022-12-16T13:23:12.222085Z",
     "iopub.status.busy": "2022-12-16T13:23:12.221455Z",
     "iopub.status.idle": "2022-12-16T13:23:12.465709Z",
     "shell.execute_reply": "2022-12-16T13:23:12.464474Z"
    },
    "papermill": {
     "duration": 0.264501,
     "end_time": "2022-12-16T13:23:12.468560",
     "exception": false,
     "start_time": "2022-12-16T13:23:12.204059",
     "status": "completed"
    },
    "tags": []
   },
   "outputs": [
    {
     "name": "stdout",
     "output_type": "stream",
     "text": [
      "topics_val                id                           title  \\\n",
      "0  t_0008768bdee6               100 સુધીનો સરવાળો   \n",
      "1  t_0008a1bd84ba       12. 20: Bird Reproduction   \n",
      "2  t_000d1fb3f2f5              2.1.2 - Logarithms   \n",
      "3  t_00102869fbcb          Triangles and polygons   \n",
      "4  t_0012a45fa09c  Quiz: materials and techniques   \n",
      "\n",
      "                                         description channel      category  \\\n",
      "0       37 અને 49 જેવી બે-અંકની સંખ્યાઓ ઉમેરતા શીખો.  5223e0  supplemental   \n",
      "1                                                NaN  ebc86c  supplemental   \n",
      "2                                                NaN  e77b55       aligned   \n",
      "3  Learning outcomes: students must be able to so...  a91e32       aligned   \n",
      "4                                                NaN  2ee29d       aligned   \n",
      "\n",
      "   level language          parent  has_content  \n",
      "0      4       gu  t_0da7a331d666         True  \n",
      "1      5       en  t_c44ac9711007         True  \n",
      "2      5       en  t_b897d168db90         True  \n",
      "3      3       en  t_039cecc12bb8         True  \n",
      "4      4       en  t_6957d4a9f469         True  \n"
     ]
    },
    {
     "data": {
      "text/plain": [
       "(array([    0,     2,     3, ..., 25000, 25001, 25002]),\n",
       " array([    1,     5,     9, ..., 24990, 24995, 24998]))"
      ]
     },
     "execution_count": 13,
     "metadata": {},
     "output_type": "execute_result"
    }
   ],
   "source": [
    "# valid df\n",
    "topics_val = topics[topics['category'] != \"source\"].reset_index(drop=True)\n",
    "print('topics_val', topics_val.head())\n",
    "\n",
    "# StratifiedGroupKFold\n",
    "sgkf = StratifiedGroupKFold(random_state=1773,\n",
    "                            n_splits=4,\n",
    "                            shuffle=True)\n",
    "\n",
    "# Perform stratified sampling based on language and group the samples based on id\n",
    "split_idxs = list(sgkf.split(topics_val[\"id\"], topics_val[\"language\"], groups=topics_val[\"id\"]))[0]\n",
    "\n",
    "split_idxs"
   ]
  },
  {
   "cell_type": "code",
   "execution_count": 14,
   "id": "d10b66af",
   "metadata": {},
   "outputs": [
    {
     "name": "stdout",
     "output_type": "stream",
     "text": [
      "topics_train \n",
      "                    id   fold\n",
      "0      t_00004da3a1b2  train\n",
      "1      t_00068291e9a4  train\n",
      "2      t_00069b63a70a  train\n",
      "3      t_0006d41a73a8  train\n",
      "4      t_000feba42136  train\n",
      "...               ...    ...\n",
      "55261  t_fff05585df72  train\n",
      "55262  t_fff51448598c  train\n",
      "55263  t_fff7782561f4  train\n",
      "55264  t_fff9e5407d13  train\n",
      "55265  t_fffe14f1be1e  train\n",
      "\n",
      "[55266 rows x 2 columns]\n",
      "topics_holdout \n",
      "                   id  fold\n",
      "0     t_0008a1bd84ba  test\n",
      "1     t_0016d30772f3  test\n",
      "2     t_001edc523bd1  test\n",
      "3     t_002eec45174c  test\n",
      "4     t_003c1782b8c2  test\n",
      "...              ...   ...\n",
      "6246  t_ffc6ba0459d6  test\n",
      "6247  t_ffcabc094a95  test\n",
      "6248  t_ffcf958baa88  test\n",
      "6249  t_ffe8df837f62  test\n",
      "6250  t_fff1f01cfeb0  test\n",
      "\n",
      "[6251 rows x 2 columns]\n"
     ]
    }
   ],
   "source": [
    "# Create training set\n",
    "topics_add_train = topics_val.iloc[split_idxs[0]].reset_index(drop=True)[[\"id\"]]\n",
    "topics_add_train[\"fold\"] = \"train\"\n",
    "\n",
    "topics_train = pd.concat([topics_train, topics_add_train], ignore_index=True)\n",
    "\n",
    "print('topics_train \\n', topics_train)\n",
    "\n",
    "# Create validation set\n",
    "topics_holdout = topics_val.iloc[split_idxs[1]].reset_index(drop=True)[[\"id\"]]\n",
    "topics_holdout[\"fold\"] = \"test\"\n",
    "\n",
    "print('topics_holdout \\n', topics_holdout)"
   ]
  },
  {
   "cell_type": "code",
   "execution_count": 7,
   "id": "a94b0d77",
   "metadata": {
    "scrolled": true
   },
   "outputs": [
    {
     "data": {
      "text/plain": [
       "en     24045\n",
       "es     10124\n",
       "pt      3363\n",
       "ar      3173\n",
       "fr      2938\n",
       "bg      2420\n",
       "sw      2063\n",
       "gu      1699\n",
       "bn      1604\n",
       "hi      1264\n",
       "it       722\n",
       "zh       672\n",
       "mr       239\n",
       "fil      163\n",
       "as       112\n",
       "my       110\n",
       "km       104\n",
       "kn        88\n",
       "te        66\n",
       "ur        54\n",
       "or        51\n",
       "ta        44\n",
       "pnb       40\n",
       "swa       33\n",
       "pl        28\n",
       "tr        26\n",
       "ru        21\n",
       "Name: language, dtype: int64"
      ]
     },
     "execution_count": 7,
     "metadata": {},
     "output_type": "execute_result"
    }
   ],
   "source": [
    "# Check the language distribution of the training set\n",
    "topics[topics.id.isin(topics_train.id)].language.value_counts()"
   ]
  },
  {
   "cell_type": "code",
   "execution_count": 8,
   "id": "c559862e",
   "metadata": {},
   "outputs": [
    {
     "data": {
      "text/plain": [
       "en     4008\n",
       "es     1645\n",
       "bn      127\n",
       "gu      110\n",
       "hi      109\n",
       "fr       96\n",
       "pt       62\n",
       "fil      61\n",
       "sw       19\n",
       "as       14\n",
       "Name: language, dtype: int64"
      ]
     },
     "execution_count": 8,
     "metadata": {},
     "output_type": "execute_result"
    }
   ],
   "source": [
    "# Check the language distribution of the validation set\n",
    "topics[topics.id.isin(topics_holdout.id)].language.value_counts()"
   ]
  },
  {
   "cell_type": "code",
   "execution_count": 15,
   "id": "7b4aadf3",
   "metadata": {
    "execution": {
     "iopub.execute_input": "2022-12-16T13:23:15.013233Z",
     "iopub.status.busy": "2022-12-16T13:23:15.012768Z",
     "iopub.status.idle": "2022-12-16T13:23:15.020818Z",
     "shell.execute_reply": "2022-12-16T13:23:15.019953Z"
    },
    "papermill": {
     "duration": 0.03394,
     "end_time": "2022-12-16T13:23:15.023192",
     "exception": false,
     "start_time": "2022-12-16T13:23:14.989252",
     "status": "completed"
    },
    "tags": []
   },
   "outputs": [
    {
     "data": {
      "text/html": [
       "<div>\n",
       "<style scoped>\n",
       "    .dataframe tbody tr th:only-of-type {\n",
       "        vertical-align: middle;\n",
       "    }\n",
       "\n",
       "    .dataframe tbody tr th {\n",
       "        vertical-align: top;\n",
       "    }\n",
       "\n",
       "    .dataframe thead th {\n",
       "        text-align: right;\n",
       "    }\n",
       "</style>\n",
       "<table border=\"1\" class=\"dataframe\">\n",
       "  <thead>\n",
       "    <tr style=\"text-align: right;\">\n",
       "      <th></th>\n",
       "      <th>id</th>\n",
       "      <th>fold</th>\n",
       "    </tr>\n",
       "  </thead>\n",
       "  <tbody>\n",
       "    <tr>\n",
       "      <th>0</th>\n",
       "      <td>t_00004da3a1b2</td>\n",
       "      <td>train</td>\n",
       "    </tr>\n",
       "    <tr>\n",
       "      <th>1</th>\n",
       "      <td>t_00068291e9a4</td>\n",
       "      <td>train</td>\n",
       "    </tr>\n",
       "    <tr>\n",
       "      <th>2</th>\n",
       "      <td>t_00069b63a70a</td>\n",
       "      <td>train</td>\n",
       "    </tr>\n",
       "    <tr>\n",
       "      <th>3</th>\n",
       "      <td>t_0006d41a73a8</td>\n",
       "      <td>train</td>\n",
       "    </tr>\n",
       "    <tr>\n",
       "      <th>4</th>\n",
       "      <td>t_000feba42136</td>\n",
       "      <td>train</td>\n",
       "    </tr>\n",
       "  </tbody>\n",
       "</table>\n",
       "</div>"
      ],
      "text/plain": [
       "               id   fold\n",
       "0  t_00004da3a1b2  train\n",
       "1  t_00068291e9a4  train\n",
       "2  t_00069b63a70a  train\n",
       "3  t_0006d41a73a8  train\n",
       "4  t_000feba42136  train"
      ]
     },
     "execution_count": 15,
     "metadata": {},
     "output_type": "execute_result"
    }
   ],
   "source": [
    "# Save the complete dataset\n",
    "split_df = pd.concat([topics_train, topics_holdout], ignore_index=True)\n",
    "split_df.to_csv('train_test_splits.csv', index=False)\n",
    "\n",
    "split_df.head()"
   ]
  },
  {
   "cell_type": "markdown",
   "id": "47cb14bf",
   "metadata": {
    "papermill": {
     "duration": 0.021488,
     "end_time": "2022-12-16T13:23:15.131659",
     "exception": false,
     "start_time": "2022-12-16T13:23:15.110171",
     "status": "completed"
    },
    "tags": []
   },
   "source": [
    "Done !"
   ]
  }
 ],
 "metadata": {
  "kernelspec": {
   "display_name": "Python 3 (ipykernel)",
   "language": "python",
   "name": "python3"
  },
  "language_info": {
   "codemirror_mode": {
    "name": "ipython",
    "version": 3
   },
   "file_extension": ".py",
   "mimetype": "text/x-python",
   "name": "python",
   "nbconvert_exporter": "python",
   "pygments_lexer": "ipython3",
   "version": "3.9.7"
  },
  "papermill": {
   "default_parameters": {},
   "duration": 45.346996,
   "end_time": "2022-12-16T13:23:16.176659",
   "environment_variables": {},
   "exception": null,
   "input_path": "__notebook__.ipynb",
   "output_path": "__notebook__.ipynb",
   "parameters": {},
   "start_time": "2022-12-16T13:22:30.829663",
   "version": "2.3.4"
  }
 },
 "nbformat": 4,
 "nbformat_minor": 5
}
